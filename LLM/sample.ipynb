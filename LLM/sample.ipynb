{
 "cells": [
  {
   "cell_type": "code",
   "execution_count": 27,
   "metadata": {
    "collapsed": true,
    "ExecuteTime": {
     "start_time": "2023-06-21T10:28:56.444217Z",
     "end_time": "2023-06-21T10:29:01.506709Z"
    }
   },
   "outputs": [],
   "source": [
    "import typing\n",
    "\n",
    "import pandas as pd\n",
    "\n",
    "test_set = pd.read_json('../vul4c_dataset/test.json')\n",
    "train_set = pd.read_json('../vul4c_dataset/train.json')\n",
    "train_set = train_set[\n",
    "    (train_set['func'].str.split('\\n').str.len() < 30) & (train_set['func'].str.split('\\n').str.len() > 10)]"
   ]
  },
  {
   "cell_type": "code",
   "execution_count": 28,
   "outputs": [],
   "source": [
    "vul_train_set = train_set[train_set['vul'] == 1]\n",
    "non_vul_train_set = train_set[train_set['vul'] == 0]\n",
    "\n",
    "vul_test_set = test_set[test_set['vul'] == 1]\n",
    "non_vul_test_set = test_set[test_set['vul'] == 0]\n",
    "\n",
    "# test_set.sample(n=6 , random_state=2023)\n",
    "small_vul_test_set = vul_test_set.sample(n= 10, random_state=2023).to_dict('records')\n",
    "small_non_vul_test_set = non_vul_test_set.sample(n= 20, random_state=2023).to_dict('records')"
   ],
   "metadata": {
    "collapsed": false,
    "ExecuteTime": {
     "start_time": "2023-06-21T10:29:01.508708Z",
     "end_time": "2023-06-21T10:29:01.611447Z"
    }
   }
  },
  {
   "cell_type": "code",
   "execution_count": 81,
   "outputs": [
    {
     "name": "stdout",
     "output_type": "stream",
     "text": [
      "['CWE-416']\n",
      "CVE-2022-3591\n",
      "8f3c3c6cd044e3b5bf08dbfa3b3f04bb3f711bad\n",
      "CWE-Other\n",
      "CVE-2015-6780\n",
      "f2cba0d13b3a6d76dedede66731e5ca253d3b2af\n",
      "['CWE-200']\n",
      "CVE-2016-2117\n",
      "f43bfaeddc79effbf3d0fcb53ca477cca66f3db8\n",
      "CWE-416\n",
      "CVE-2022-0156\n",
      "9f1a39a5d1cd7989ada2d1cb32f97d84360e050f\n",
      "['CWE-476']\n",
      "CVE-2018-7191\n",
      "0ad646c81b2182f7fa67ec0c8c825e0ee165696d\n",
      "CWE-476\n",
      "CVE-2022-1671\n",
      "ff8376ade4f668130385839cef586a0990f8ef87\n",
      "# function\n",
      "void\n",
      "free_wininfo(wininfo_T *wip)\n",
      "{\n",
      "    if (wip->wi_optset)\n",
      "    {\n",
      "\tclear_winopt(&wip->wi_opt);\n",
      "#ifdef FEAT_FOLDING\n",
      "\tdeleteFoldRecurse(&wip->wi_folds);\n",
      "#endif\n",
      "    }\n",
      "    vim_free(wip);\n",
      "}\n",
      "# vulnerable:no\n",
      "\n",
      "# function\n",
      "ConnectionInfoPopupAndroid::ConnectionInfoPopupAndroid(\n",
      "    JNIEnv* env,\n",
      "    jobject java_website_settings_pop,\n",
      "    WebContents* web_contents) {\n",
      "  // Important to use GetVisibleEntry to match what's showing in the omnibox.\n",
      "  content::NavigationEntry* nav_entry =\n",
      "      web_contents->GetController().GetVisibleEntry();\n",
      "  if (nav_entry == NULL)\n",
      "    return;\n",
      "\n",
      "  popup_jobject_.Reset(env, java_website_settings_pop);\n",
      "\n",
      "  presenter_.reset(new WebsiteSettings(\n",
      "      this,\n",
      "      Profile::FromBrowserContext(web_contents->GetBrowserContext()),\n",
      "      TabSpecificContentSettings::FromWebContents(web_contents),\n",
      "      InfoBarService::FromWebContents(web_contents),\n",
      "      nav_entry->GetURL(),\n",
      "      nav_entry->GetSSL(),\n",
      "      content::CertStore::GetInstance()));\n",
      "}\n",
      "# vulnerable:yes\n",
      "\n",
      "# function\n",
      "static void atl2_watchdog(unsigned long data)\n",
      "{\n",
      "\tstruct atl2_adapter *adapter = (struct atl2_adapter *) data;\n",
      "\n",
      "\tif (!test_bit(__ATL2_DOWN, &adapter->flags)) {\n",
      "\t\tu32 drop_rxd, drop_rxs;\n",
      "\t\tunsigned long flags;\n",
      "\n",
      "\t\tspin_lock_irqsave(&adapter->stats_lock, flags);\n",
      "\t\tdrop_rxd = ATL2_READ_REG(&adapter->hw, REG_STS_RXD_OV);\n",
      "\t\tdrop_rxs = ATL2_READ_REG(&adapter->hw, REG_STS_RXS_OV);\n",
      "\t\tspin_unlock_irqrestore(&adapter->stats_lock, flags);\n",
      "\n",
      "\t\tadapter->netdev->stats.rx_over_errors += drop_rxd + drop_rxs;\n",
      "\n",
      "\t\t/* Reset the timer */\n",
      "\t\tmod_timer(&adapter->watchdog_timer,\n",
      "\t\t\t  round_jiffies(jiffies + 4 * HZ));\n",
      "\t}\n",
      "}\n",
      "# vulnerable:no\n",
      "\n",
      "# function\n",
      "int\n",
      "ga_add_string(garray_T *gap, char_u *p)\n",
      "{\n",
      "    char_u *cp = vim_strsave(p);\n",
      "\n",
      "    if (cp == NULL)\n",
      "\treturn FAIL;\n",
      "\n",
      "    if (ga_grow(gap, 1) == FAIL)\n",
      "    {\n",
      "\tvim_free(cp);\n",
      "\treturn FAIL;\n",
      "    }\n",
      "    ((char_u **)(gap->ga_data))[gap->ga_len++] = cp;\n",
      "    return OK;\n",
      "}\n",
      "# vulnerable:yes\n",
      "\n",
      "# function\n",
      "static enum hrtimer_restart napi_watchdog(struct hrtimer *timer)\n",
      "{\n",
      "\tstruct napi_struct *napi;\n",
      "\n",
      "\tnapi = container_of(timer, struct napi_struct, timer);\n",
      "\n",
      "\t/* Note : we use a relaxed variant of napi_schedule_prep() not setting\n",
      "\t * NAPI_STATE_MISSED, since we do not react to a device IRQ.\n",
      "\t */\n",
      "\tif (napi->gro_list && !napi_disable_pending(napi) &&\n",
      "\t    !test_and_set_bit(NAPI_STATE_SCHED, &napi->state))\n",
      "\t\t__napi_schedule_irqoff(napi);\n",
      "\n",
      "\treturn HRTIMER_NORESTART;\n",
      "}\n",
      "# vulnerable:no\n",
      "\n",
      "# function\n",
      "static int rxrpc_preparse_s(struct key_preparsed_payload *prep)\n",
      "{\n",
      "\tconst struct rxrpc_security *sec;\n",
      "\tunsigned int service, sec_class;\n",
      "\tint n;\n",
      "\n",
      "\t_enter(\"%zu\", prep->datalen);\n",
      "\n",
      "\tif (!prep->orig_description)\n",
      "\t\treturn -EINVAL;\n",
      "\n",
      "\tif (sscanf(prep->orig_description, \"%u:%u%n\", &service, &sec_class, &n) != 2)\n",
      "\t\treturn -EINVAL;\n",
      "\n",
      "\tsec = rxrpc_security_lookup(sec_class);\n",
      "\tif (!sec)\n",
      "\t\treturn -ENOPKG;\n",
      "\n",
      "\tprep->payload.data[1] = (struct rxrpc_security *)sec;\n",
      "\n",
      "\treturn sec->preparse_server_key(prep);\n",
      "}\n",
      "# vulnerable:yes\n",
      "\n",
      "\n"
     ]
    }
   ],
   "source": [
    "\n",
    "# prompt_prefix = \"\"\"I want you to act as a vulnerability detector, your objective is to detect if a function is vulnerable,uch as input validation issues, buffer overflow vulnerabilities, SQL injection vulnerabilities, and other security risks. I will give you a function, answer \"yes\" if the function is vulnerable, answer \"no\" if there is no vulnerability, no other information needs to be output.\n",
    "# \"\"\"\n",
    "\n",
    "# icl_random_1\n",
    "prompt_prefix = \"\"\"I want you to act as a vulnerability detector, your objective is to detect if a function is vulnerable. I will give you several examples, each containing a function and an answer corresponding to whether there is a vulnerability. At the end I will give you a function that answers \"yes\" if the function has a vulnerability and \"no\" if there is no vulnerability, without outputting any other information.\"\"\"\n",
    "\n",
    "# icl_random_2\n",
    "# prompt_prefix = \"\"\"I want you to act as a vulnerability detector, your objective is to detect if a function is vulnerable. I will give you several examples, each containing a function and an answer corresponding to whether there is a vulnerability. At the end I will give you a function,you should analyze its code for potential security vulnerabilities, such as input validation issues, buffer overflow vulnerabilities, SQL injection vulnerabilities, and other security risks. Answers \"yes\" if the last function has a vulnerability and \"no\" if there is no vulnerability, without outputting any other information.\n",
    "# \"\"\"\n",
    "\n",
    "\n",
    "icl_random_vul_train_set = vul_train_set.sample(n=3, random_state=7077)\n",
    "icl_random_non_vul_train_set = non_vul_train_set.sample(n=3, random_state=7077)\n",
    "icl_random_set = pd.concat([icl_random_vul_train_set, icl_random_non_vul_train_set]).sample(frac=1,random_state=8080).to_dict('records')\n",
    "icl_random_vul_info = [\n",
    "    \"\",\n",
    "    \"Use After Free\",\n",
    "    \"\",\n",
    "    \"Use After Free\",\n",
    "    \"\",\n",
    "    \"NULL Pointer Dereference\",\n",
    "]\n",
    "\n",
    "icl_random_prompt = \"\"\n",
    "for idx,item in enumerate(icl_random_set):\n",
    "    print(item['cwe_list'])\n",
    "    print(item['cve'])\n",
    "    print(item['commit_hash'])\n",
    "    vulnerable_info = \"\"\n",
    "    # if len(icl_random_vul_info[idx]) != 0:\n",
    "    #     vulnerable_info = f\"# vulnerability:{icl_random_vul_info[idx]}\\n\"\n",
    "    icl_random_prompt += f\"# function\\n{item['func']}\\n{vulnerable_info}# vulnerable:{'yes' if item['vul'] == 1 else 'no'}\\n\\n\"\n",
    "\n",
    "print(icl_random_prompt)\n",
    "\n",
    "def icl_find_same_repo_examples(e:dict):\n",
    "    repo_name = e['repo_name']\n",
    "    e_id = e['id']\n",
    "    vul = vul_train_set[(vul_train_set['repo_name'] == repo_name) & (vul_train_set['id'] != e_id) ]\n",
    "    non_vul = non_vul_train_set[(non_vul_train_set['repo_name'] == repo_name) & (non_vul_train_set['id'] != e_id)]\n",
    "    vul = vul.sample(n=3 if vul.shape[0] > 3 else vul.shape[0],random_state=2023)\n",
    "    non_vul = non_vul.sample(n=3 if non_vul.shape[0] > 3 else non_vul.shape[0],random_state=2023)\n",
    "    return pd.concat([vul , non_vul]).sample(frac=1,random_state=2023).to_dict('records')\n",
    "\n",
    "\n",
    "cot_few_shot_info = [\n",
    "    ( 11299 , \"\"\"Let's think step by step\n",
    "1. The function decode_data takes two parameters: a pointer to a structure called struct sixpack named sp, and an unsigned char named inbyte.\n",
    "2. then it declares a pointer variable buf of type unsigned char.\n",
    "3. It checks if the rx_count member variable of the sp structure is not equal to 3. If it is not equal to 3, it means there is still space in the raw_buf array to store data.\n",
    "4. Then it decoded 3 bytes and store the decode result in cooked_buf.\n",
    "5. Here's a vulnerability that causes out-of-bounds memory writes, the function should check cooked_buf array size\"\"\" ),\n",
    "    (88703 , \"\"\"Let's think step by step\n",
    "1. The function addPeer is a member function of the Logger class.\n",
    "2. It takes three parameters: ip (of type QString) representing the IP address of the peer, blocked (of type bool) indicating if the peer is blocked, and reason (of type QString) providing the reason for blocking.\n",
    "3. The ip parameter is passed in by the webUI without escaping many values, which could potentially lead to XSS.\"\"\"),\n",
    "    (17002 , \"\"\"Let's think step by step\n",
    "1. The function dissector_get_string_handle takes two parameters: sub_dissectors: A dissector_table_t variable representing a table of sub-dissectors. string: A const gchar* representing a string.\n",
    "2. Inside the function callsfind_string_dtbl_entry with the parameters sub_dissectors and string to search for a matching entry in the sub_dissectors table based on the provided string.\n",
    "3. The result of the find_string_dtbl_entry function is stored in the dtbl_entry variable.\n",
    "4. if dtbl_entry return the value of dtbl_entry->current else return null\n",
    "5. There is a vulnerability where table searches find_string_dtbl_entry for empty strings are not handled properly, which allows remote attackers to cause a denial of service.\"\"\"),\n",
    "        ( 228194 , \"\"\"Let's think step by step\n",
    "1. The function free_wininfo is defined, which takes a pointer to a structure wininfo_T called wip as its parameter.\n",
    "2. The function first checks if the wi_optset member of the wininfo_T structure pointed to by wip is true using the if statement.\n",
    "3. If wi_optset is true, the function calls the clear_winopt function, passing the wi_opt member of the wininfo_T structure pointed to by wip as an argument. This function is responsible for clearing the window options.\n",
    "4. Next, there is an #ifdef directive that checks if the FEAT_FOLDING feature is defined. If it is defined, the code inside the #ifdef block is compiled.\n",
    "5. Inside the #ifdef FEAT_FOLDING block, the function calls the deleteFoldRecurse function, passing the wi_folds member of the wininfo_T structure pointed to by wip as an argument. This function is responsible for deleting any existing folding information associated with the window.\n",
    "6. After the #ifdef block, the function calls vim_free to deallocate the memory pointed to by wip.\n",
    "7. This function is clearly not vulnerable\"\"\") ,\n",
    "    ( 92053, \"\"\"Let's think step by step\n",
    "1. The function napi_watchdog is defined, which takes a pointer to a struct hrtimer as an argument and returns an enum value of type hrtimer_restart.\n",
    "2. The line napi = container_of(timer, struct napi_struct, timer); uses the container_of macro to obtain a pointer to the parent structure struct napi_struct using the timer pointer. It assumes that the timer is embedded within a larger structure struct napi_struct.\n",
    "3. The next block of code checks certain conditions before scheduling the NAPI (New API) processing.\n",
    "4. Finally, the function returns HRTIMER_NORESTART, indicating that the high-resolution timer should not be restarted.\n",
    "5. This function is clearly not vulnerable\"\"\" ),\n",
    "    ( 123609, \"\"\"Let's think step by step\n",
    "1. The function atl2_watchdog takes an unsigned long data as a parameter.\n",
    "2. It checks if the __ATL2_DOWN bit is not set in the adapter flags using the test_bit function.\n",
    "3. If the bit is not set, it proceeds with the following steps:\n",
    "4. It acquires a spin lock using spin_lock_irqsave to protect the adapter stats.\n",
    "5. It reads the value from the register REG_STS_RXD_OV using ATL2_READ_REG macro and assigns it to drop_rxd.\n",
    "6. It releases the spin lock using spin_unlock_irqrestore.\n",
    "7. It increments the rx_over_errors counter in the statistics of the adapter's associated network device (netdev) by adding the values of drop_rxd and drop_rxs.\n",
    "8. Resets the watchdog timer for the adapter by modifying the expiration time using mod_timer\n",
    "9. This function is clearly not vulnerable\"\"\" ),\n",
    "]\n",
    "\n",
    "\n",
    "\n",
    "cot_few_shot_str = \"\"\n",
    "def add_cot_few_shot_str(item):\n",
    "    global cot_few_shot_str\n",
    "    idx , info = item\n",
    "    example = train_set[train_set['id'] == idx].iloc[0]\n",
    "    vul = example['vul']\n",
    "    func = example['func']\n",
    "    cot_few_shot_str += f'# function\\n{func}\\n{info}\\n# vulnerable:{\"yes\" if vul == 1 else \"no\"}\\n\\n\\n'\n",
    "\n",
    "for i in cot_few_shot_info:\n",
    "    add_cot_few_shot_str(i)\n",
    "\n",
    "\n",
    "def write_example(f:typing.IO,e:dict):\n",
    "    # CoT\n",
    "    # prompt =  f\"{prompt_prefix}\\n{e['func']}\\n\\nlet's think step by step first.\\n\\n\"\n",
    "    # f.write(prompt)\n",
    "    # f.write(\"\"\"answer \"yes\" if the function is vulnerable, answer \"no\" if there is no vulnerability, no other information needs to be output.\"\"\")\n",
    "    # f.write('\\n\\n')\n",
    "\n",
    "    # CoT few-shot\n",
    "    prompt =  f\"{prompt_prefix}\\n{cot_few_shot_str}\\n# function\\n{e['func']}\\nLet's think step by step.\\n\\n\"\n",
    "    f.write(prompt)\n",
    "    f.write(\"\"\"answer \"yes\" if the function is vulnerable, answer \"no\" if there is no vulnerability, no other information needs to be output.\"\"\")\n",
    "    f.write('\\n\\n')\n",
    "\n",
    "    # ICL random\n",
    "    # prompt = f\"{prompt_prefix}\\n{icl_random_prompt}\\n{e['func']}\\n# vulnerable:\"\n",
    "    #\n",
    "    # f.write(prompt)\n",
    "    # f.write('\\n\\n')\n",
    "\n",
    "    # ICL select from same repo\n",
    "    # examples = icl_find_same_repo_examples(e)\n",
    "    # example_prompt = \"\"\n",
    "    # for item in examples:\n",
    "    #     example_prompt += f\"# function\\n{item['func']}\\n{vulnerable_info}# vulnerable:{'yes' if item['vul'] == 1 else 'no'}\\n\\n\"\n",
    "    # prompt = f\"{prompt_prefix}\\n{example_prompt}\\n{e['func']}\\n# vulnerable:\"\n",
    "    #\n",
    "    # f.write(prompt)\n",
    "    # f.write('\\n\\n')\n",
    "\n",
    "with open('vul_test.txt',mode='w') as f:\n",
    "    for e in small_vul_test_set:\n",
    "        write_example(f,e)\n",
    "\n",
    "\n",
    "\n",
    "with open('non_vul_test.txt',mode='w') as f:\n",
    "    for e in small_non_vul_test_set:\n",
    "        write_example(f,e)\n",
    "\n"
   ],
   "metadata": {
    "collapsed": false,
    "ExecuteTime": {
     "start_time": "2023-06-21T16:28:21.733658Z",
     "end_time": "2023-06-21T16:28:21.741658Z"
    }
   }
  },
  {
   "cell_type": "code",
   "execution_count": 50,
   "outputs": [
    {
     "name": "stderr",
     "output_type": "stream",
     "text": [
      "/tmp/ipykernel_22150/1942265450.py:3: SettingWithCopyWarning: \n",
      "A value is trying to be set on a copy of a slice from a DataFrame.\n",
      "Try using .loc[row_indexer,col_indexer] = value instead\n",
      "\n",
      "See the caveats in the documentation: https://pandas.pydata.org/pandas-docs/stable/user_guide/indexing.html#returning-a-view-versus-a-copy\n",
      "  new_vul_train_set['cwe_list'] = vul_train_set.cwe_list.apply(lambda x: x[0])\n"
     ]
    },
    {
     "data": {
      "text/plain": "                   cve cwe_list             repo_name  \\\n24       CVE-2012-0036   CWE-89           bagder/curl   \n42       CVE-2013-6401  CWE-310       akheron/jansson   \n59       CVE-2012-0056  CWE-264        torvalds/linux   \n98       CVE-2023-0216  CWE-476               openssl   \n130     CVE-2023-28101  CWE-116               flatpak   \n...                ...      ...                   ...   \n309353   CVE-2021-3623  CWE-787  stefanberger/libtpms   \n309546  CVE-2020-11049  CWE-125               FreeRDP   \n309566   CVE-2016-6871  CWE-190         facebook/hhvm   \n309587   CVE-2018-7323  CWE-834             wireshark   \n309672  CVE-2022-43945  CWE-770        torvalds/linux   \n\n                                     commit_hash  \\\n24      75ca568fa1c19de4c5358fed246686de8467c238   \n42      8f80c2d83808150724d31793e6ade92749b1faa4   \n59      e268337dfe26dfc7efd422a804dbb27977a3cccc   \n98      934a04f0e775309cadbef0aa6b9692e1b12a76c6   \n130     6cac99dafe6003c8a4bd5666341c217876536869   \n...                                          ...   \n309353                                   2e6173c   \n309546  c367f65d42e0d2e1ca248998175180aa9c2eacd0   \n309566  c00fc9d3003eb06226b58b6a48555f1456ee2475   \n309587  5d45b69b590cabc5127282d1ade3bca1598e5f5c   \n309672  f90497a16e434c2211c66e3de8e77b17868382b8   \n\n                                                  git_url  \\\n24      https://github.com/bagder/curl/commit/75ca568f...   \n42      https://github.com/akheron/jansson/commit/8f80...   \n59      http://git.kernel.org/?p=linux/kernel/git/torv...   \n98      https://git.openssl.org/gitweb/?p=openssl.git;...   \n130     https://github.com/flatpak/flatpak/commit/6cac...   \n...                                                   ...   \n309353  https://github.com/stefanberger/libtpms/commit...   \n309546  https://github.com/FreeRDP/FreeRDP/commit/c367...   \n309566  https://github.com/facebook/hhvm/commit/c00fc9...   \n309587  https://github.com/wireshark/wireshark/commit/...   \n309672  https://git.kernel.org/pub/scm/linux/kernel/gi...   \n\n                                                     func  graph_idx  vul  \\\n24      static CURLcode pop3_parse_url_path(struct con...      24450    1   \n42      void *hashtable_get(hashtable_t *hashtable, co...      63402    1   \n59      struct mm_struct *mm_for_maps(struct task_stru...      24103    1   \n98      void ossl_pkcs7_resolve_libctx(PKCS7 *p7)\\n{\\n...     423122    1   \n130     static void\\nprint_perm_line (int        idx,\\...     427327    1   \n...                                                   ...        ...  ...   \n309353  TPM_RC\\nTPMA_CC_Unmarshal(TPMA_CC *target, BYT...     362924    1   \n309546  int rdp_recv_out_of_sequence_pdu(rdpRdp* rdp, ...     289409    1   \n309566  static String HHVM_FUNCTION(bcmul, const Strin...     161279    1   \n309587  static gint\\ndissect_wccp2_alternate_mask_assi...     210621    1   \n309672  static __be32\\nnfsd4_decode_verify(struct nfsd...     410918    1   \n\n            id  \n24          24  \n42          42  \n59          59  \n98          98  \n130        130  \n...        ...  \n309353  309353  \n309546  309546  \n309566  309566  \n309587  309587  \n309672  309672  \n\n[2690 rows x 9 columns]",
      "text/html": "<div>\n<style scoped>\n    .dataframe tbody tr th:only-of-type {\n        vertical-align: middle;\n    }\n\n    .dataframe tbody tr th {\n        vertical-align: top;\n    }\n\n    .dataframe thead th {\n        text-align: right;\n    }\n</style>\n<table border=\"1\" class=\"dataframe\">\n  <thead>\n    <tr style=\"text-align: right;\">\n      <th></th>\n      <th>cve</th>\n      <th>cwe_list</th>\n      <th>repo_name</th>\n      <th>commit_hash</th>\n      <th>git_url</th>\n      <th>func</th>\n      <th>graph_idx</th>\n      <th>vul</th>\n      <th>id</th>\n    </tr>\n  </thead>\n  <tbody>\n    <tr>\n      <th>24</th>\n      <td>CVE-2012-0036</td>\n      <td>CWE-89</td>\n      <td>bagder/curl</td>\n      <td>75ca568fa1c19de4c5358fed246686de8467c238</td>\n      <td>https://github.com/bagder/curl/commit/75ca568f...</td>\n      <td>static CURLcode pop3_parse_url_path(struct con...</td>\n      <td>24450</td>\n      <td>1</td>\n      <td>24</td>\n    </tr>\n    <tr>\n      <th>42</th>\n      <td>CVE-2013-6401</td>\n      <td>CWE-310</td>\n      <td>akheron/jansson</td>\n      <td>8f80c2d83808150724d31793e6ade92749b1faa4</td>\n      <td>https://github.com/akheron/jansson/commit/8f80...</td>\n      <td>void *hashtable_get(hashtable_t *hashtable, co...</td>\n      <td>63402</td>\n      <td>1</td>\n      <td>42</td>\n    </tr>\n    <tr>\n      <th>59</th>\n      <td>CVE-2012-0056</td>\n      <td>CWE-264</td>\n      <td>torvalds/linux</td>\n      <td>e268337dfe26dfc7efd422a804dbb27977a3cccc</td>\n      <td>http://git.kernel.org/?p=linux/kernel/git/torv...</td>\n      <td>struct mm_struct *mm_for_maps(struct task_stru...</td>\n      <td>24103</td>\n      <td>1</td>\n      <td>59</td>\n    </tr>\n    <tr>\n      <th>98</th>\n      <td>CVE-2023-0216</td>\n      <td>CWE-476</td>\n      <td>openssl</td>\n      <td>934a04f0e775309cadbef0aa6b9692e1b12a76c6</td>\n      <td>https://git.openssl.org/gitweb/?p=openssl.git;...</td>\n      <td>void ossl_pkcs7_resolve_libctx(PKCS7 *p7)\\n{\\n...</td>\n      <td>423122</td>\n      <td>1</td>\n      <td>98</td>\n    </tr>\n    <tr>\n      <th>130</th>\n      <td>CVE-2023-28101</td>\n      <td>CWE-116</td>\n      <td>flatpak</td>\n      <td>6cac99dafe6003c8a4bd5666341c217876536869</td>\n      <td>https://github.com/flatpak/flatpak/commit/6cac...</td>\n      <td>static void\\nprint_perm_line (int        idx,\\...</td>\n      <td>427327</td>\n      <td>1</td>\n      <td>130</td>\n    </tr>\n    <tr>\n      <th>...</th>\n      <td>...</td>\n      <td>...</td>\n      <td>...</td>\n      <td>...</td>\n      <td>...</td>\n      <td>...</td>\n      <td>...</td>\n      <td>...</td>\n      <td>...</td>\n    </tr>\n    <tr>\n      <th>309353</th>\n      <td>CVE-2021-3623</td>\n      <td>CWE-787</td>\n      <td>stefanberger/libtpms</td>\n      <td>2e6173c</td>\n      <td>https://github.com/stefanberger/libtpms/commit...</td>\n      <td>TPM_RC\\nTPMA_CC_Unmarshal(TPMA_CC *target, BYT...</td>\n      <td>362924</td>\n      <td>1</td>\n      <td>309353</td>\n    </tr>\n    <tr>\n      <th>309546</th>\n      <td>CVE-2020-11049</td>\n      <td>CWE-125</td>\n      <td>FreeRDP</td>\n      <td>c367f65d42e0d2e1ca248998175180aa9c2eacd0</td>\n      <td>https://github.com/FreeRDP/FreeRDP/commit/c367...</td>\n      <td>int rdp_recv_out_of_sequence_pdu(rdpRdp* rdp, ...</td>\n      <td>289409</td>\n      <td>1</td>\n      <td>309546</td>\n    </tr>\n    <tr>\n      <th>309566</th>\n      <td>CVE-2016-6871</td>\n      <td>CWE-190</td>\n      <td>facebook/hhvm</td>\n      <td>c00fc9d3003eb06226b58b6a48555f1456ee2475</td>\n      <td>https://github.com/facebook/hhvm/commit/c00fc9...</td>\n      <td>static String HHVM_FUNCTION(bcmul, const Strin...</td>\n      <td>161279</td>\n      <td>1</td>\n      <td>309566</td>\n    </tr>\n    <tr>\n      <th>309587</th>\n      <td>CVE-2018-7323</td>\n      <td>CWE-834</td>\n      <td>wireshark</td>\n      <td>5d45b69b590cabc5127282d1ade3bca1598e5f5c</td>\n      <td>https://github.com/wireshark/wireshark/commit/...</td>\n      <td>static gint\\ndissect_wccp2_alternate_mask_assi...</td>\n      <td>210621</td>\n      <td>1</td>\n      <td>309587</td>\n    </tr>\n    <tr>\n      <th>309672</th>\n      <td>CVE-2022-43945</td>\n      <td>CWE-770</td>\n      <td>torvalds/linux</td>\n      <td>f90497a16e434c2211c66e3de8e77b17868382b8</td>\n      <td>https://git.kernel.org/pub/scm/linux/kernel/gi...</td>\n      <td>static __be32\\nnfsd4_decode_verify(struct nfsd...</td>\n      <td>410918</td>\n      <td>1</td>\n      <td>309672</td>\n    </tr>\n  </tbody>\n</table>\n<p>2690 rows × 9 columns</p>\n</div>"
     },
     "execution_count": 50,
     "metadata": {},
     "output_type": "execute_result"
    }
   ],
   "source": [
    "# vul_train_set[]\n",
    "new_vul_train_set = vul_train_set\n",
    "new_vul_train_set['cwe_list'] = vul_train_set.cwe_list.apply(lambda x: x[0])\n",
    "new_vul_train_set"
   ],
   "metadata": {
    "collapsed": false,
    "ExecuteTime": {
     "start_time": "2023-06-21T14:52:19.765330Z",
     "end_time": "2023-06-21T14:52:19.772831Z"
    }
   }
  },
  {
   "cell_type": "code",
   "execution_count": 62,
   "outputs": [
    {
     "data": {
      "text/plain": "                   cve cwe_list       repo_name  \\\n1228     CVE-2010-4818   CWE-20    xorg/xserver   \n1675     CVE-2015-3150   CWE-20  abrt/libreport   \n3679     CVE-2016-9395   CWE-20  mdadams/jasper   \n5069     CVE-2010-4818   CWE-20    xorg/xserver   \n7541     CVE-2016-1661   CWE-20        chromium   \n...                ...      ...             ...   \n298735  CVE-2020-26270   CWE-20      tensorflow   \n298867   CVE-2015-3150   CWE-20            abrt   \n300227   CVE-2010-4575   CWE-20        chromium   \n302145   CVE-2010-5110   CWE-20         poppler   \n304132  CVE-2018-11357   CWE-20       wireshark   \n\n                                     commit_hash  \\\n1228    6c69235a9dfc52e4b4e47630ff4bab1a820eb543   \n1675    1951e7282043dfe1268d492aea056b554baedb75   \n3679    d42b2388f7f8e0332c846675133acea151fc557a   \n5069    ec9c97c6bf70b523bc500bd3adf62176f1bb33a4   \n7541    f23b8e77a83a5aafabf64acf723cf2ac02c5cf0e   \n...                                          ...   \n298735  14755416e364f17fb1870882fa778c7fec7f16e3   \n298867  6e811d78e2719988ae291181f5b133af32ce62d8   \n300227  eb68c596f0883a539386eed7a11c8a3da0aa529a   \n302145  fc071d800cb4329a3ccf898d7bf16b4db7323ad8   \n304132  ab8a33ef083b9732c89117747a83a905a676faf6   \n\n                                                  git_url  \\\n1228    http://cgit.freedesktop.org/xorg/xserver/commi...   \n1675    https://github.com/abrt/libreport/commit/1951e...   \n3679    https://github.com/mdadams/jasper/commit/d42b2...   \n5069    http://cgit.freedesktop.org/xorg/xserver/commi...   \n7541    https://chromium.googlesource.com/chromium/src...   \n...                                                   ...   \n298735  https://github.com/tensorflow/tensorflow/commi...   \n298867  https://github.com/abrt/abrt/commit/6e811d78e2...   \n300227  https://github.com/chromium/chromium/commit/eb...   \n302145  http://cgit.freedesktop.org/poppler/poppler/co...   \n304132  https://github.com/wireshark/wireshark/commit/...   \n\n                                                     func  graph_idx  vul  \\\n1228    int __glXDispSwap_QueryServerString(__GLXclien...      34464    1   \n1675    static void dd_unlock(struct dump_dir *dd)\\n{\\...     281082    1   \n3679    void jas_matrix_divpow2(jas_matrix_t *matrix, ...     169595    1   \n5069    int __glXDisp_CreateNewContext(__GLXclientStat...      34549    1   \n7541    static bool canAccessFrame(v8::Isolate* isolat...     118234    1   \n...                                                   ...        ...  ...   \n298735  static port::StatusOr<CudnnRnnSequenceTensorDe...     308612    1   \n298867  static bool allowed_problem_dir(const char *di...     281041    1   \n300227  void ThemeInstalledInfoBarDelegate::Observe(\\n...      17853    1   \n302145  static boolean str_fill_input_buffer(j_decompr...      73208    1   \n304132  gboolean\\ntvb_bytes_exist(const tvbuff_t *tvb,...     218658    1   \n\n            id  \n1228      1228  \n1675      1675  \n3679      3679  \n5069      5069  \n7541      7541  \n...        ...  \n298735  298735  \n298867  298867  \n300227  300227  \n302145  302145  \n304132  304132  \n\n[209 rows x 9 columns]",
      "text/html": "<div>\n<style scoped>\n    .dataframe tbody tr th:only-of-type {\n        vertical-align: middle;\n    }\n\n    .dataframe tbody tr th {\n        vertical-align: top;\n    }\n\n    .dataframe thead th {\n        text-align: right;\n    }\n</style>\n<table border=\"1\" class=\"dataframe\">\n  <thead>\n    <tr style=\"text-align: right;\">\n      <th></th>\n      <th>cve</th>\n      <th>cwe_list</th>\n      <th>repo_name</th>\n      <th>commit_hash</th>\n      <th>git_url</th>\n      <th>func</th>\n      <th>graph_idx</th>\n      <th>vul</th>\n      <th>id</th>\n    </tr>\n  </thead>\n  <tbody>\n    <tr>\n      <th>1228</th>\n      <td>CVE-2010-4818</td>\n      <td>CWE-20</td>\n      <td>xorg/xserver</td>\n      <td>6c69235a9dfc52e4b4e47630ff4bab1a820eb543</td>\n      <td>http://cgit.freedesktop.org/xorg/xserver/commi...</td>\n      <td>int __glXDispSwap_QueryServerString(__GLXclien...</td>\n      <td>34464</td>\n      <td>1</td>\n      <td>1228</td>\n    </tr>\n    <tr>\n      <th>1675</th>\n      <td>CVE-2015-3150</td>\n      <td>CWE-20</td>\n      <td>abrt/libreport</td>\n      <td>1951e7282043dfe1268d492aea056b554baedb75</td>\n      <td>https://github.com/abrt/libreport/commit/1951e...</td>\n      <td>static void dd_unlock(struct dump_dir *dd)\\n{\\...</td>\n      <td>281082</td>\n      <td>1</td>\n      <td>1675</td>\n    </tr>\n    <tr>\n      <th>3679</th>\n      <td>CVE-2016-9395</td>\n      <td>CWE-20</td>\n      <td>mdadams/jasper</td>\n      <td>d42b2388f7f8e0332c846675133acea151fc557a</td>\n      <td>https://github.com/mdadams/jasper/commit/d42b2...</td>\n      <td>void jas_matrix_divpow2(jas_matrix_t *matrix, ...</td>\n      <td>169595</td>\n      <td>1</td>\n      <td>3679</td>\n    </tr>\n    <tr>\n      <th>5069</th>\n      <td>CVE-2010-4818</td>\n      <td>CWE-20</td>\n      <td>xorg/xserver</td>\n      <td>ec9c97c6bf70b523bc500bd3adf62176f1bb33a4</td>\n      <td>http://cgit.freedesktop.org/xorg/xserver/commi...</td>\n      <td>int __glXDisp_CreateNewContext(__GLXclientStat...</td>\n      <td>34549</td>\n      <td>1</td>\n      <td>5069</td>\n    </tr>\n    <tr>\n      <th>7541</th>\n      <td>CVE-2016-1661</td>\n      <td>CWE-20</td>\n      <td>chromium</td>\n      <td>f23b8e77a83a5aafabf64acf723cf2ac02c5cf0e</td>\n      <td>https://chromium.googlesource.com/chromium/src...</td>\n      <td>static bool canAccessFrame(v8::Isolate* isolat...</td>\n      <td>118234</td>\n      <td>1</td>\n      <td>7541</td>\n    </tr>\n    <tr>\n      <th>...</th>\n      <td>...</td>\n      <td>...</td>\n      <td>...</td>\n      <td>...</td>\n      <td>...</td>\n      <td>...</td>\n      <td>...</td>\n      <td>...</td>\n      <td>...</td>\n    </tr>\n    <tr>\n      <th>298735</th>\n      <td>CVE-2020-26270</td>\n      <td>CWE-20</td>\n      <td>tensorflow</td>\n      <td>14755416e364f17fb1870882fa778c7fec7f16e3</td>\n      <td>https://github.com/tensorflow/tensorflow/commi...</td>\n      <td>static port::StatusOr&lt;CudnnRnnSequenceTensorDe...</td>\n      <td>308612</td>\n      <td>1</td>\n      <td>298735</td>\n    </tr>\n    <tr>\n      <th>298867</th>\n      <td>CVE-2015-3150</td>\n      <td>CWE-20</td>\n      <td>abrt</td>\n      <td>6e811d78e2719988ae291181f5b133af32ce62d8</td>\n      <td>https://github.com/abrt/abrt/commit/6e811d78e2...</td>\n      <td>static bool allowed_problem_dir(const char *di...</td>\n      <td>281041</td>\n      <td>1</td>\n      <td>298867</td>\n    </tr>\n    <tr>\n      <th>300227</th>\n      <td>CVE-2010-4575</td>\n      <td>CWE-20</td>\n      <td>chromium</td>\n      <td>eb68c596f0883a539386eed7a11c8a3da0aa529a</td>\n      <td>https://github.com/chromium/chromium/commit/eb...</td>\n      <td>void ThemeInstalledInfoBarDelegate::Observe(\\n...</td>\n      <td>17853</td>\n      <td>1</td>\n      <td>300227</td>\n    </tr>\n    <tr>\n      <th>302145</th>\n      <td>CVE-2010-5110</td>\n      <td>CWE-20</td>\n      <td>poppler</td>\n      <td>fc071d800cb4329a3ccf898d7bf16b4db7323ad8</td>\n      <td>http://cgit.freedesktop.org/poppler/poppler/co...</td>\n      <td>static boolean str_fill_input_buffer(j_decompr...</td>\n      <td>73208</td>\n      <td>1</td>\n      <td>302145</td>\n    </tr>\n    <tr>\n      <th>304132</th>\n      <td>CVE-2018-11357</td>\n      <td>CWE-20</td>\n      <td>wireshark</td>\n      <td>ab8a33ef083b9732c89117747a83a905a676faf6</td>\n      <td>https://github.com/wireshark/wireshark/commit/...</td>\n      <td>gboolean\\ntvb_bytes_exist(const tvbuff_t *tvb,...</td>\n      <td>218658</td>\n      <td>1</td>\n      <td>304132</td>\n    </tr>\n  </tbody>\n</table>\n<p>209 rows × 9 columns</p>\n</div>"
     },
     "execution_count": 62,
     "metadata": {},
     "output_type": "execute_result"
    }
   ],
   "source": [
    "new_vul_train_set[new_vul_train_set['cwe_list'] == 'CWE-20']"
   ],
   "metadata": {
    "collapsed": false,
    "ExecuteTime": {
     "start_time": "2023-06-21T15:25:59.153378Z",
     "end_time": "2023-06-21T15:25:59.159878Z"
    }
   }
  },
  {
   "cell_type": "code",
   "execution_count": 64,
   "outputs": [
    {
     "name": "stdout",
     "output_type": "stream",
     "text": [
      "dissector_handle_t\n",
      "dissector_get_string_handle(dissector_table_t sub_dissectors,\n",
      "\t\t\t    const gchar *string)\n",
      "{\n",
      "\tdtbl_entry_t *dtbl_entry;\n",
      "\n",
      "\tdtbl_entry = find_string_dtbl_entry(sub_dissectors, string);\n",
      "\tif (dtbl_entry != NULL)\n",
      "\t\treturn dtbl_entry->current;\n",
      "\telse\n",
      "\t\treturn NULL;\n",
      "}\n"
     ]
    }
   ],
   "source": [
    "print(new_vul_train_set[new_vul_train_set['id'] == 17002]['func'].iloc[0])"
   ],
   "metadata": {
    "collapsed": false,
    "ExecuteTime": {
     "start_time": "2023-06-21T15:28:32.877110Z",
     "end_time": "2023-06-21T15:28:32.932523Z"
    }
   }
  },
  {
   "cell_type": "code",
   "execution_count": 73,
   "outputs": [
    {
     "name": "stdout",
     "output_type": "stream",
     "text": [
      "static void atl2_watchdog(unsigned long data)\n",
      "{\n",
      "\tstruct atl2_adapter *adapter = (struct atl2_adapter *) data;\n",
      "\n",
      "\tif (!test_bit(__ATL2_DOWN, &adapter->flags)) {\n",
      "\t\tu32 drop_rxd, drop_rxs;\n",
      "\t\tunsigned long flags;\n",
      "\n",
      "\t\tspin_lock_irqsave(&adapter->stats_lock, flags);\n",
      "\t\tdrop_rxd = ATL2_READ_REG(&adapter->hw, REG_STS_RXD_OV);\n",
      "\t\tdrop_rxs = ATL2_READ_REG(&adapter->hw, REG_STS_RXS_OV);\n",
      "\t\tspin_unlock_irqrestore(&adapter->stats_lock, flags);\n",
      "\n",
      "\t\tadapter->netdev->stats.rx_over_errors += drop_rxd + drop_rxs;\n",
      "\n",
      "\t\t/* Reset the timer */\n",
      "\t\tmod_timer(&adapter->watchdog_timer,\n",
      "\t\t\t  round_jiffies(jiffies + 4 * HZ));\n",
      "\t}\n",
      "}\n"
     ]
    }
   ],
   "source": [
    "print(icl_random_non_vul_train_set.iloc[2]['func'])"
   ],
   "metadata": {
    "collapsed": false,
    "ExecuteTime": {
     "start_time": "2023-06-21T16:09:39.078312Z",
     "end_time": "2023-06-21T16:09:39.128812Z"
    }
   }
  }
 ],
 "metadata": {
  "kernelspec": {
   "display_name": "Python 3",
   "language": "python",
   "name": "python3"
  },
  "language_info": {
   "codemirror_mode": {
    "name": "ipython",
    "version": 2
   },
   "file_extension": ".py",
   "mimetype": "text/x-python",
   "name": "python",
   "nbconvert_exporter": "python",
   "pygments_lexer": "ipython2",
   "version": "2.7.6"
  }
 },
 "nbformat": 4,
 "nbformat_minor": 0
}
